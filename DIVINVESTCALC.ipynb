{
  "nbformat": 4,
  "nbformat_minor": 0,
  "metadata": {
    "colab": {
      "provenance": [],
      "authorship_tag": "ABX9TyNx94w2tyUfmWiBGwIeTD8e",
      "include_colab_link": true
    },
    "kernelspec": {
      "name": "python3",
      "display_name": "Python 3"
    },
    "language_info": {
      "name": "python"
    }
  },
  "cells": [
    {
      "cell_type": "markdown",
      "metadata": {
        "id": "view-in-github",
        "colab_type": "text"
      },
      "source": [
        "<a href=\"https://colab.research.google.com/github/AuridineiDev/DIV-INVEST-CALC/blob/main/DIVINVESTCALC.ipynb\" target=\"_parent\"><img src=\"https://colab.research.google.com/assets/colab-badge.svg\" alt=\"Open In Colab\"/></a>"
      ]
    },
    {
      "cell_type": "code",
      "execution_count": null,
      "metadata": {
        "id": "NQyICc8RJizA",
        "colab": {
          "base_uri": "https://localhost:8080/"
        },
        "outputId": "95be0a5c-20b5-4fd6-c98a-0b64fea25a38"
      },
      "outputs": [
        {
          "output_type": "stream",
          "name": "stdout",
          "text": [
            "Digite o valor disponível para investir (em R$): 313.84\n",
            "Digite o preço atual de uma ação (em R$): 24.50\n",
            "Digite o valor do dividendo por ação (em R$): 2.99\n",
            "Com R$ 313.84, você pode comprar 12 ações.\n",
            "Sobrará R$ 19.84 após a compra.\n",
            "Com um dividendo de R$ 2.99 por ação, você receberá R$ 35.88 em dividendos.\n"
          ]
        }
      ],
      "source": [
        "# Sistema para calcular compra de ações e recebimento de dividendos.\n",
        "# Criado e registrado por Auridinei Abreu Lima, programador e investidor com ajuda de IA, todos os direitos reservados a ele.\n",
        "#_______________________________________________________________________________\n",
        "\n",
        "# Entrada de dados\n",
        "valor_disponivel = float(input(\"Digite o valor disponível para investir (em R$): \"))\n",
        "preco_acao = float(input(\"Digite o preço atual de uma ação (em R$): \"))\n",
        "dividendo_por_acao = float(input(\"Digite o valor do dividendo por ação (em R$): \"))\n",
        "\n",
        "# Cálculos\n",
        "quantidade_acoes = int(valor_disponivel // preco_acao)  # Quantidade inteira de ações\n",
        "valor_sobra = valor_disponivel % preco_acao  # Valor que sobra\n",
        "total_dividendos = quantidade_acoes * dividendo_por_acao  # Total de dividendos recebidos\n",
        "\n",
        "# Exibição dos resultados\n",
        "resultado = (f\"Com R$ {valor_disponivel:.2f}, você pode comprar {quantidade_acoes} ações.\\n\"\n",
        "             f\"Sobrará R$ {valor_sobra:.2f} após a compra.\\n\"\n",
        "             f\"Com um dividendo de R$ {dividendo_por_acao:.2f} por ação, você receberá R$ {total_dividendos:.2f} em dividendos.\")\n",
        "print(resultado)\n"
      ]
    }
  ]
}